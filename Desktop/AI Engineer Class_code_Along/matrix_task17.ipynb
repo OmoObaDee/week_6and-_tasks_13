{
 "cells": [
  {
   "cell_type": "code",
   "execution_count": null,
   "id": "16211eb5",
   "metadata": {},
   "outputs": [],
   "source": [
    "#  SOLUTION TO QUESTION GIVE OF 4X3 MATRIX "
   ]
  },
  {
   "cell_type": "code",
   "execution_count": 9,
   "id": "c47480de",
   "metadata": {},
   "outputs": [],
   "source": [
    "import numpy as np"
   ]
  },
  {
   "cell_type": "code",
   "execution_count": 10,
   "id": "e4e96ce7",
   "metadata": {},
   "outputs": [
    {
     "data": {
      "text/plain": [
       "array([[80, 70, 90],\n",
       "       [60, 85, 75],\n",
       "       [95, 88, 92],\n",
       "       [70, 60, 65]])"
      ]
     },
     "execution_count": 10,
     "metadata": {},
     "output_type": "execute_result"
    }
   ],
   "source": [
    "# 3.1 Representing Data as a Matrix\n",
    "\n",
    "student_scores = np.array([[80, 70, 90],\n",
    "                          [60, 85, 75],\n",
    "                          [95, 88, 92],\n",
    "                          [70, 60, 65]])\n",
    "student_scores"
   ]
  },
  {
   "cell_type": "code",
   "execution_count": 11,
   "id": "cedf2e24",
   "metadata": {},
   "outputs": [
    {
     "name": "stdout",
     "output_type": "stream",
     "text": [
      "The total score for student1 is 240\n",
      "The total score for student2 is 220\n",
      "The total score for student3 is 275\n",
      "The total score for student4 is 195\n"
     ]
    }
   ],
   "source": [
    "# 3.2 Total Scores per Student\n",
    "row_of_sum1 = np.sum(student_scores, axis=1)\n",
    "for i, total in enumerate(row_of_sum1, 1):\n",
    "    print(f\"The total score for student{i} is {total}\")"
   ]
  },
  {
   "cell_type": "code",
   "execution_count": 12,
   "id": "933772ab",
   "metadata": {},
   "outputs": [
    {
     "name": "stdout",
     "output_type": "stream",
     "text": [
      "Since maths is twice as important as others. Weighted scores is:\n",
      " [[160  70  90]\n",
      " [120  85  75]\n",
      " [190  88  92]\n",
      " [140  60  65]]\n",
      " \n",
      "Total score for student1 is 320\n",
      "Total score for student2 is 280\n",
      "Total score for student3 is 370\n",
      "Total score for student4 is 265\n"
     ]
    }
   ],
   "source": [
    "#3.3 Applying Weights (Scalar Multiplication)\n",
    "weighted_maths = np.array([2, 1, 1])\n",
    "weighted_maths = student_scores * weighted_maths\n",
    "print(\"Since maths is twice as important as others. Weighted scores is:\\n\", weighted_maths)\n",
    "\n",
    "new_score = weighted_maths\n",
    "print(\" \")\n",
    "\n",
    "row_of_sum2 = np.sum(weighted_maths, axis=1)\n",
    "\n",
    "for i, total in enumerate(row_of_sum2, 1):\n",
    "    print(f\"Total score for student{i} is {total}\")\n",
    "\n"
   ]
  },
  {
   "cell_type": "code",
   "execution_count": 13,
   "id": "b34c72c4",
   "metadata": {},
   "outputs": [
    {
     "name": "stdout",
     "output_type": "stream",
     "text": [
      "Average of ['Maths', 'English', 'Science'] is 152.5\n",
      "Average of ['Maths', 'English', 'Science'] is 75.75\n",
      "Average of ['Maths', 'English', 'Science'] is 80.5\n"
     ]
    }
   ],
   "source": [
    "# 3.4 Average score per students (Matrix Operations)\n",
    "\n",
    "subjects = [\"Maths\", \"English\", \"Science\"]\n",
    "average_subject = np.mean(new_score, axis=0)\n",
    "\n",
    "for subject, avg in zip(subjects, average_subject):\n",
    "    print(f\"Average of {subjects} is {avg}\")\n",
    "\n"
   ]
  },
  {
   "cell_type": "code",
   "execution_count": 27,
   "id": "88e3c231",
   "metadata": {},
   "outputs": [
    {
     "name": "stdout",
     "output_type": "stream",
     "text": [
      "student 1 Finale grade: 79.0\n",
      "student 2 Finale grade: 70.5\n",
      "student 3 Finale grade: 92.3\n",
      "student 4 Finale grade: 66.0\n"
     ]
    }
   ],
   "source": [
    "# Final Grade\n",
    "weight_vector = [0.5, 0.3, 0.2]\n",
    "final_grade_1 = student_scores@ weight_vector\n",
    "final_grade = np.round(final_grade_1, 1)\n",
    "for i, f in enumerate(final_grade):\n",
    "    print(f\"student {i+1} Finale grade: {f}\")"
   ]
  },
  {
   "cell_type": "code",
   "execution_count": 28,
   "id": "f5ff45aa",
   "metadata": {},
   "outputs": [
    {
     "name": "stdout",
     "output_type": "stream",
     "text": [
      "8.5\n"
     ]
    }
   ],
   "source": [
    "# Comparing student 1 grade and student 2 grade\n",
    "student_1_grade = final_grade[0]\n",
    "student_2_grade = final_grade[1]\n",
    "comparism = student_1_grade - student_2_grade\n",
    "print(comparism)\n"
   ]
  },
  {
   "cell_type": "code",
   "execution_count": null,
   "id": "369d13d5",
   "metadata": {},
   "outputs": [],
   "source": []
  },
  {
   "cell_type": "code",
   "execution_count": null,
   "id": "ca8080c4",
   "metadata": {},
   "outputs": [],
   "source": [
    "#   FOR 5X4 MATRIX"
   ]
  },
  {
   "cell_type": "code",
   "execution_count": 15,
   "id": "0e4aacf9",
   "metadata": {},
   "outputs": [],
   "source": [
    "import numpy as np\n",
    "\n",
    "# Showing the students scores matrix (5 students × 4 subjects)\n",
    "students_scores = np.array([\n",
    "   [55, 90, 45, 60],  # Student 1\n",
    "    [80, 90, 95, 75],  # Student 2\n",
    "    [55, 98, 92, 75],  # Student 3\n",
    "    [80, 80, 85, 90],  # Student 4\n",
    "    [85, 88, 60, 90]   # Student 5\n",
    "])\n",
    "\n",
    "\n",
    "student_students = [\"Student 1\", \"Student 2\", \"Student 3\", \"Student 4\", \"Student 5\"]\n",
    "student_subjects = [\"Math\", \"English\", \"Science\",\"Agri\", \"Pyhsics\"]\n",
    "students = [f\"Student {i}\" for i in range(1, 6)]\n",
    "\n"
   ]
  },
  {
   "cell_type": "code",
   "execution_count": 16,
   "id": "47e189e4",
   "metadata": {},
   "outputs": [
    {
     "name": "stdout",
     "output_type": "stream",
     "text": [
      "<><><><><><><><><><><><><><><><><><><><><><><><><><><><><><>\n",
      "[55 90 45 60] total = 250\n",
      "[80 90 95 75] total = 340\n",
      "[55 98 92 75] total = 320\n",
      "[80 80 85 90] total = 335\n",
      "[85 88 60 90] total = 323\n",
      "<><><><><><><><><><><><><><><><><><><><><><><><><><><><><><>\n"
     ]
    }
   ],
   "source": [
    "# Now we need to Sum all rows (axis=1)\n",
    "totals_scores = students_scores.sum(axis=1)\n",
    "print(\"<>\"*30)\n",
    "for i, total in enumerate(totals_scores):\n",
    "    print(f\"{students_scores[i]} total = {total}\")\n",
    "print(\"<>\"*30)"
   ]
  },
  {
   "cell_type": "code",
   "execution_count": 17,
   "id": "f799fe32",
   "metadata": {},
   "outputs": [
    {
     "name": "stdout",
     "output_type": "stream",
     "text": [
      "<><><><>><TOTAL SCORES PER STUDENT><><>><><><><><><>><><><>\n",
      "Student 1: [250 340 320 335 323]\n",
      "Student 2: [250 340 320 335 323]\n",
      "Student 3: [250 340 320 335 323]\n",
      "Student 4: [250 340 320 335 323]\n",
      "Student 5: [250 340 320 335 323]\n",
      "<><><><><><><><><><><><><><><><><><><><><><><><><><><><><><>\n"
     ]
    }
   ],
   "source": [
    "# Question 2: Totals per student  \n",
    "totals = students_scores.sum(axis=1)\n",
    "subject_means = students_scores.mean(axis=0)\n",
    "\n",
    "print(\"<><><><>><TOTAL SCORES PER STUDENT><><>><><><><><><>><><><>\")\n",
    "for name, total in zip(students, totals_scores):\n",
    "    print(f\"{name}: {totals_scores}\")\n",
    "print(\"<>\"*30)\n"
   ]
  },
  {
   "cell_type": "code",
   "execution_count": 18,
   "id": "fe1dd677",
   "metadata": {},
   "outputs": [
    {
     "name": "stdout",
     "output_type": "stream",
     "text": [
      "\n",
      "=== STUDENT AVERAGE SCORES/SUBJECTS ===\n",
      "<><><><><><><><><><><><><><><><><><><><><><><><><><><><><><>\n",
      "Maths: 71.00\n",
      "English: 89.20\n",
      "Science: 75.40\n",
      "<><><><><><><><><><><><><><><><><><><><><><><><><><><><><><>\n"
     ]
    }
   ],
   "source": [
    "# Averages per subject\n",
    "print(\"\\n=== STUDENT AVERAGE SCORES/SUBJECTS ===\")\n",
    "print(\"<>\"*30)\n",
    "for subj, avg in zip(subjects, subject_means):\n",
    "    print(f\"{subj}: {avg:.2f}\")\n",
    "print(\"<>\"*30)"
   ]
  },
  {
   "cell_type": "code",
   "execution_count": 19,
   "id": "b86106d4",
   "metadata": {},
   "outputs": [
    {
     "data": {
      "text/plain": [
       "array([[ 55,  90, 135,  60],\n",
       "       [ 80,  90, 285,  75],\n",
       "       [ 55,  98, 276,  75],\n",
       "       [ 80,  80, 255,  90],\n",
       "       [ 85,  88, 180,  90]])"
      ]
     },
     "execution_count": 19,
     "metadata": {},
     "output_type": "execute_result"
    }
   ],
   "source": [
    "# Question 3Step 3: 2. Suppose one subject (e.g., Science) is 3 times more important than others. (Apply scalar multiplication and recompute totals)\n",
    "weighted_scores = students_scores.copy()\n",
    "weighted_scores[:, 2] *= 3   # Multiply Science column by 3\n",
    "weighted_totals = weighted_scores.sum(axis=1)\n",
    "weighted_scores"
   ]
  },
  {
   "cell_type": "code",
   "execution_count": 20,
   "id": "64bf6ec2",
   "metadata": {},
   "outputs": [
    {
     "name": "stdout",
     "output_type": "stream",
     "text": [
      "-- Weighted Student's Total Score--\n",
      " student_1 total score: 250\n",
      " student_2 total score: 340\n",
      " student_3 total score: 320\n",
      " student_4 total score: 335\n",
      " student_5 total score: 323\n"
     ]
    }
   ],
   "source": [
    "new_student_totals = np.sum(students_scores, axis=1)\n",
    "print(\"-- Weighted Student's Total Score--\")\n",
    "for i, total in enumerate(new_student_totals):\n",
    "    print(f\" student_{i+1} total score: {total}\")"
   ]
  },
  {
   "cell_type": "code",
   "execution_count": 21,
   "id": "b510c75b",
   "metadata": {},
   "outputs": [
    {
     "data": {
      "text/plain": [
       "array([[22. , 18. , 13.5,  6. ],\n",
       "       [32. , 18. , 28.5,  7.5],\n",
       "       [22. , 19.6, 27.6,  7.5],\n",
       "       [32. , 16. , 25.5,  9. ],\n",
       "       [34. , 17.6, 18. ,  9. ]])"
      ]
     },
     "execution_count": 21,
     "metadata": {},
     "output_type": "execute_result"
    }
   ],
   "source": [
    "#3. Define new weights for grading (e.g., 40%, 20%, 30%, 10%). Compute final grades using matrix multiplication. \n",
    "new_grade_weight = np.array([0.40,0.20,0.30,0.10])\n",
    "student_students = students_scores* new_grade_weight\n",
    "student_students\n"
   ]
  },
  {
   "cell_type": "code",
   "execution_count": 23,
   "id": "067fd1d3",
   "metadata": {},
   "outputs": [
    {
     "name": "stdout",
     "output_type": "stream",
     "text": [
      "student 1 Finale grade: 79.0\n",
      "student 2 Finale grade: 70.5\n",
      "student 3 Finale grade: 92.3\n",
      "student 4 Finale grade: 66.0\n"
     ]
    }
   ],
   "source": [
    "# Final Grade\n",
    "weight_vector = [0.5, 0.3, 0.2]\n",
    "final_grade_1 = student_scores @ weight_vector\n",
    "final_grade = np.round(final_grade_1, 1)\n",
    "for i, f in enumerate(final_grade):\n",
    "    print(f\"student {i+1} Finale grade: {f}\")"
   ]
  },
  {
   "cell_type": "code",
   "execution_count": 24,
   "id": "efa46cb4",
   "metadata": {},
   "outputs": [
    {
     "name": "stdout",
     "output_type": "stream",
     "text": [
      "Difference (Student 3 - Student 4): [-25  18   7 -15]\n"
     ]
    }
   ],
   "source": [
    "# Question 4. Compare Student 3 and Student 4 using vector subtraction. Who performed better in each subject?\n",
    "difference = students_scores[2] - students_scores[3]\n",
    "\n",
    "print(\"Difference (Student 3 - Student 4):\", difference)"
   ]
  },
  {
   "cell_type": "code",
   "execution_count": 25,
   "id": "90793b4e",
   "metadata": {},
   "outputs": [
    {
     "name": "stdout",
     "output_type": "stream",
     "text": [
      "Student 4 has 25 marks above Student 3 in test Mathematics\n",
      "Student 3 has 18 marks above Student 4 in test English Language\n",
      "Student 3 has 7 marks above Student 4 in test Chemistry\n",
      "Student 4 has 15 marks above Student 3 in test Pyhsics\n"
     ]
    }
   ],
   "source": [
    "subjects = [\"Mathematics\", \"English Language\", \"Chemistry\", \"Pyhsics\"]\n",
    "for i, score in enumerate(difference):\n",
    "    if score > 0:\n",
    "        print(f\"Student 3 has {score} marks above Student 4 in test {subjects[i]}\")\n",
    "    elif score < 0:\n",
    "        print(f\"Student 4 has {abs(score)} marks above Student 3 in test {subjects[i]}\")\n",
    "    else:\n",
    "        print(f\"Student 3 and Student 4 scored the same in test {subjects[i]}\")\n"
   ]
  },
  {
   "cell_type": "code",
   "execution_count": null,
   "id": "c455bdad",
   "metadata": {},
   "outputs": [],
   "source": []
  },
  {
   "cell_type": "code",
   "execution_count": null,
   "id": "b18e7ec2",
   "metadata": {},
   "outputs": [],
   "source": [
    " #  ><<<<<<<<<<<<<<<<<< MARK DOWN WITH NUMPY CODE    ><<<<<<<<<<<<<<<<<<<<<<<"
   ]
  },
  {
   "cell_type": "code",
   "execution_count": null,
   "id": "9d05326b",
   "metadata": {},
   "outputs": [
    {
     "name": "stdout",
     "output_type": "stream",
     "text": [
      ".....STUDENTS TOTAL SCORES/STUDENT.....\n",
      "Student 1: 250\n",
      "Student 2: 340\n",
      "Student 3: 320\n",
      "Student 4: 335\n",
      "Student 5: 323\n",
      "\n",
      "<><>> STUDENTS AVERAGE SCORES/SUBJECTS><><>\n",
      "Math: 71.00\n",
      "English: 89.20\n",
      "Science: 75.40\n",
      "History: 78.00\n",
      "\n",
      "><><> WEIGHTED TOTALS (Science* 3) <><>\n",
      "Student 1: 340\n",
      "Student 2: 530\n",
      "Student 3: 504\n",
      "Student 4: 505\n",
      "Student 5: 443\n",
      "\n",
      "=== FINAL GRADES (weighted) ===\n",
      "Student 1: 59.50\n",
      "Student 2: 86.00\n",
      "Student 3: 76.70\n",
      "Student 4: 82.50\n",
      "Student 5: 78.60\n",
      "\n",
      "=== COMPARISON (Student 3 - Student 4) ===\n",
      "Math: -25 → Student 4 performed better\n",
      "English: 18 → Student 3 performed better\n",
      "Science: 7 → Student 3 performed better\n",
      "History: -15 → Student 4 performed better\n"
     ]
    }
   ],
   "source": [
    "import numpy as np\n",
    "# Question 1 : 1. Create a new 5×4 matrix of scores (5 students, 4 subjects). Compute each student’s total  score and the average per subject. \n",
    "# Solution 1: Creating 5×4 scores matrix\n",
    "\n",
    "student_scores = np.array([\n",
    "    [55, 90, 45, 60],  \n",
    "    [80, 90, 95, 75],  \n",
    "    [55, 98, 92, 75],  \n",
    "    [80, 80, 85, 90],  \n",
    "    [85, 88, 60, 90]   \n",
    "])\n",
    "\n",
    "student_students = [f\"Student {i}\" for i in range(1, 6)]\n",
    "student_subjects = [\"Math\", \"English\", \"Science\", \"AGR\"]\n",
    "\n",
    "\n",
    "students_totals = students_scores.sum(axis=1)\n",
    "student_subject_means = student_scores.mean(axis=0)\n",
    "\n",
    "print(\".....STUDENTS TOTAL SCORES/STUDENT.....\")\n",
    "for name, total in zip(student_students, students_totals):\n",
    "    print(f\"{name}: {total}\")\n",
    "\n",
    "print(\"\\n<><>> STUDENTS AVERAGE SCORES/SUBJECTS><><>\")\n",
    "for subj, avg in zip(subjects, subject_means):\n",
    "    print(f\"{subj}: {avg:.2f}\")\n",
    "\n",
    "# Question2: 2. Suppose one subject (e.g., Science) is 3 times more important than others. Apply scalar multiplication and recompute totals.\n",
    "weighted_scores = student_scores.copy()\n",
    "weighted_scores[:, 2] *= 3   # Multiply Science column by 3\n",
    "weighted_totals = weighted_scores.sum(axis=1)\n",
    "\n",
    "print(\"\\n><><> WEIGHTED TOTALS (Science* 3) <><>\")\n",
    "for name, total in zip(student_students, weighted_totals):\n",
    "    print(f\"{name}: {total}\")\n",
    "\n",
    "# Question 4: Final grades using weights [0.4, 0.2, 0.3, 0.1]\n",
    "weights = np.array([0.4, 0.2, 0.3, 0.1])\n",
    "final_grades = student_scores @ weights \n",
    "# matrix multiplication above \n",
    "\n",
    "print(\"\\n=== FINAL GRADES (weighted) ===\")\n",
    "for name, grade in zip(student_students, final_grades):\n",
    "    print(f\"{name}: {grade:.2f}\")\n",
    "\n",
    "# Question 5: Compare scores of Student 3 and scores of Student 4 \n",
    "diff = student_scores[2] - student_scores[3]\n",
    "print(\"\\n=== COMPARISON (Student 3 - Student 4) ===\")\n",
    "for subj, d in zip(subjects, diff):\n",
    "    who = \"Student 3\" if d > 0 else \"Student 4\" if d < 0 else \"Both equal\"\n",
    "    print(f\"{subj}: {d} → {who} performed better\")\n"
   ]
  },
  {
   "cell_type": "code",
   "execution_count": null,
   "id": "ab297b47",
   "metadata": {},
   "outputs": [],
   "source": []
  },
  {
   "cell_type": "code",
   "execution_count": null,
   "id": "2b9b692f",
   "metadata": {},
   "outputs": [],
   "source": [
    "#     ><<<<<<<<<<<<<<<<<<<<<<   MARKDOWN WORKS ><<<<<<<<<<<<<<<<<<<<<<<<<<<<<<<<<<<\n",
    " "
   ]
  },
  {
   "cell_type": "markdown",
   "id": "020bd99d",
   "metadata": {},
   "source": [
    "STUDENT ANALYSIS PERFORMANCE WITH LINEAR ALGBERA\n",
    "\n",
    "student_matrix = [\n",
    "    [ 74,  80,  89,  78], \n",
    "    [100,  83,  84,  85], \n",
    "    [ 70,  78,  70,  70], \n",
    "    [ 98,  73,  82,  89], \n",
    "    [ 82,  91,  77,  91]]\n",
    "\n",
    "subjects = [\"Mathematics\", \"English Language\", \"Science\", \"History\"]\n",
    "\n",
    "student_1 total score: ( 74 + 80 + 89 + 78) = 321\n",
    "student_2 total score: (100 + 83 + 84 + 85) = 352\n",
    "student_3 total score: (70 + 78 + 70 + 70) = 288\n",
    "student_4 total score: (98 + 73 + 82 + 89) = 342\n",
    "student_5 total score: (82 + 91 + 77 + 91) = 341\n",
    "\n",
    "Mathematics Average: (74 + 100 + 70 + 98 + 82)/5 = 84.8\n",
    "English Language Average: (80 + 83 + 78 + 73 + 91)/5 = 81.0\n",
    "science: (89 + 84 + 70 + 82 + 77)/5 = 80.4\n",
    "History Average: (78 + 85 + 70 + 89 + 91)/5 = 82.6\n",
    "\n",
    "Suppose Mathematics is 3 times more important than others. Apply scalar \n",
    "multiplication and recompute totals.\n",
    "\n",
    "subj_weight = [3,1,1,1]\n",
    "new_student_matrix = student_matrix * subj_weight\n",
    "\n",
    "Let's define new weights for grading (e.g., 40%, 20%, 30%, 10%). Compute final grades using \n",
    "matrix multiplication. \n",
    "\n",
    "new_grade_weight = [0.40,0.20,0.30,0.10]\n",
    "student_matrix_2 = student_matrix * new_grade_weight\n",
    "\n",
    "Comparing Student 3 and Student 4 using vector subtraction.\n",
    "We check Who performed better in each subject\n",
    "\n",
    "Math: -25 → Student 4 performed better\n",
    "English: 18 → Student 3 performed better\n",
    "Science: 7 → Student 3 performed better\n",
    "History: -15 → Student 4 performed better"
   ]
  }
 ],
 "metadata": {
  "kernelspec": {
   "display_name": "Python 3",
   "language": "python",
   "name": "python3"
  },
  "language_info": {
   "codemirror_mode": {
    "name": "ipython",
    "version": 3
   },
   "file_extension": ".py",
   "mimetype": "text/x-python",
   "name": "python",
   "nbconvert_exporter": "python",
   "pygments_lexer": "ipython3",
   "version": "3.13.7"
  }
 },
 "nbformat": 4,
 "nbformat_minor": 5
}

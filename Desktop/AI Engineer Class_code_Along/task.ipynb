{
 "cells": [
  {
   "cell_type": "markdown",
   "id": "b2d00721",
   "metadata": {},
   "source": [
    "student_matrix = [\n",
    "    [ 74,  80,  89,  78], \n",
    "    [100,  83,  84,  85], \n",
    "    [ 70,  78,  70,  70], \n",
    "    [ 98,  73,  82,  89], \n",
    "    [ 82,  91,  77,  91]]\n",
    "\n",
    "subjects = [\"Mathematics\", \"English Language\", \"Chemistry\", \"Pyhsics\"]\n",
    "\n",
    "student_1 total score: ( 74 + 80 + 89 + 78) = 321\n",
    "student_2 total score: (100 + 83 + 84 + 85) = 352\n",
    "student_3 total score: (70 + 78 + 70 + 70) = 288\n",
    "student_4 total score: (98 + 73 + 82 + 89) = 342\n",
    "student_5 total score: (82 + 91 + 77 + 91) = 341\n",
    "\n",
    "Mathematics Average: (74 + 100 + 70 + 98 + 82)/5 = 84.8\n",
    "English Language Average: (80 + 83 + 78 + 73 + 91)/5 = 81.0\n",
    "Chemistry Average: (89 + 84 + 70 + 82 + 77)/5 = 80.4\n",
    "Pyhsics Average: (78 + 85 + 70 + 89 + 91)/5 = 82.6\n",
    "\n",
    "Suppose Mathematics is 3 times more important than others. Apply scalar \n",
    "multiplication and recompute totals.\n",
    "\n",
    "subj_weight = [3,1,1,1]\n",
    "new_student_matrix = student_matrix * subj_weight\n",
    "\n",
    "Let's define new weights for grading (e.g., 40%, 20%, 30%, 10%). Compute final grades using \n",
    "matrix multiplication. \n",
    "\n",
    "new_grade_weight = [0.40,0.20,0.30,0.10]\n",
    "student_matrix_2 = student_matrix * new_grade_weight\n",
    "\n",
    "Comparing Student 3 and Student 4 using vector subtraction.\n",
    "We check Who performed better in each subject\n",
    "\n",
    "Mathematics - sudent 4 perform better with 28 marks above student 3\n",
    "English - \n"
   ]
  },
  {
   "cell_type": "code",
   "execution_count": null,
   "id": "6a1c7163",
   "metadata": {},
   "outputs": [],
   "source": [
    "import numpy as np"
   ]
  },
  {
   "cell_type": "code",
   "execution_count": 5,
   "id": "09e97ee5",
   "metadata": {},
   "outputs": [],
   "source": [
    "matrix_1 = np.array([[80,70,90],\n",
    "                   [60,85,75],\n",
    "                   [95,88,92],\n",
    "                   [70,60,65]])"
   ]
  },
  {
   "cell_type": "code",
   "execution_count": 6,
   "id": "6cc36def",
   "metadata": {},
   "outputs": [
    {
     "name": "stdout",
     "output_type": "stream",
     "text": [
      "-- Total Scores per student --\n",
      "Student 1 Total Score: 240\n",
      "Student 2 Total Score: 220\n",
      "Student 3 Total Score: 275\n",
      "Student 4 Total Score: 195\n"
     ]
    }
   ],
   "source": [
    "# Total score per student\n",
    "student_Total = np.sum(matrix_1, axis=1)\n",
    "print(\"-- Total Scores per student --\")\n",
    "for i, total in enumerate(student_Total):\n",
    "    print(f\"Student {i+1} Total Score: {total}\")\n"
   ]
  },
  {
   "cell_type": "code",
   "execution_count": 7,
   "id": "ca7ddc9f",
   "metadata": {},
   "outputs": [
    {
     "data": {
      "text/plain": [
       "array([[160,  70,  90],\n",
       "       [120,  85,  75],\n",
       "       [190,  88,  92],\n",
       "       [140,  60,  65]])"
      ]
     },
     "execution_count": 7,
     "metadata": {},
     "output_type": "execute_result"
    }
   ],
   "source": [
    "# Applying weight (scalar multiplicatio)\n",
    "subjects_list = [\"Math\", \"English\", \"Science\"]\n",
    "# if Math is twice as important as others\n",
    "matrix_weight = [2,1,1]\n",
    "matrix_2 = matrix_1 * matrix_weight\n",
    "matrix_2"
   ]
  },
  {
   "cell_type": "code",
   "execution_count": 8,
   "id": "ea16d13f",
   "metadata": {},
   "outputs": [
    {
     "name": "stdout",
     "output_type": "stream",
     "text": [
      "--Student Average Score--\n",
      "Math Average Score: 76.25\n",
      "English Average Score: 75.75\n",
      "Science Average Score: 80.5\n"
     ]
    }
   ],
   "source": [
    "# Average scope per subject \n",
    "matrix_1_mean = np.mean(matrix_1, axis=0)\n",
    "print(\"--Student Average Score--\")\n",
    "for i,mean_value in enumerate(matrix_1_mean):\n",
    "    print(f\"{subjects_list[i]} Average Score: {mean_value}\")"
   ]
  },
  {
   "cell_type": "code",
   "execution_count": 21,
   "id": "ee1696ff",
   "metadata": {},
   "outputs": [
    {
     "name": "stdout",
     "output_type": "stream",
     "text": [
      "student 1 Finale grade: 119.0\n",
      "student 2 Finale grade: 100.5\n",
      "student 3 Finale grade: 139.8\n",
      "student 4 Finale grade: 101.0\n"
     ]
    }
   ],
   "source": [
    "# Final Grade\n",
    "weight_vector = [0.5, 0.3, 0.2]\n",
    "final_grade_1 = matrix_2 @ weight_vector\n",
    "final_grade = np.round(final_grade_1, 1)\n",
    "for i, f in enumerate(final_grade):\n",
    "    print(f\"student {i+1} Finale grade: {f}\")"
   ]
  },
  {
   "cell_type": "code",
   "execution_count": 23,
   "id": "bf9e5fef",
   "metadata": {},
   "outputs": [
    {
     "name": "stdout",
     "output_type": "stream",
     "text": [
      "18.5\n"
     ]
    }
   ],
   "source": [
    "# Comparing student 1 grade and student 2 grade\n",
    "student_1_grade = final_grade[0]\n",
    "student_2_grade = final_grade[1]\n",
    "comparism = student_1_grade - student_2_grade\n",
    "print(comparism)\n"
   ]
  },
  {
   "cell_type": "markdown",
   "id": "20c2d9dd",
   "metadata": {},
   "source": []
  },
  {
   "cell_type": "code",
   "execution_count": null,
   "id": "5da3a1c7",
   "metadata": {},
   "outputs": [
    {
     "data": {
      "text/plain": [
       "array([[ 71, 100,  81,  87],\n",
       "       [ 71,  89,  86,  92],\n",
       "       [ 87,  85,  72,  91],\n",
       "       [ 79,  70,  81,  97],\n",
       "       [ 74,  91,  79,  95]], dtype=int32)"
      ]
     },
     "execution_count": 2,
     "metadata": {},
     "output_type": "execute_result"
    }
   ],
   "source": [
    "student_matrix = np.random.randint(70, 101, size=(5, 4))\n",
    "student_matrix"
   ]
  },
  {
   "cell_type": "code",
   "execution_count": 3,
   "id": "167fc68a",
   "metadata": {},
   "outputs": [
    {
     "name": "stdout",
     "output_type": "stream",
     "text": [
      "-- Student's Total Score--\n",
      " student_1 total score: 339\n",
      " student_2 total score: 338\n",
      " student_3 total score: 335\n",
      " student_4 total score: 327\n",
      " student_5 total score: 339\n"
     ]
    }
   ],
   "source": [
    "student_totals = np.sum(student_matrix, axis=1)\n",
    "print(\"-- Student's Total Score--\")\n",
    "for i, total in enumerate(student_totals):\n",
    "    print(f\" student_{i+1} total score: {total}\")"
   ]
  },
  {
   "cell_type": "code",
   "execution_count": 4,
   "id": "7aacf76b",
   "metadata": {},
   "outputs": [
    {
     "name": "stdout",
     "output_type": "stream",
     "text": [
      "-- Student's Subjects Average Scores--\n",
      " Mathematics Average: 76.4\n",
      " English Language Average: 87.0\n",
      " Chemistry Average: 79.8\n",
      " Pyhsics Average: 92.4\n"
     ]
    }
   ],
   "source": [
    "student_subject_avgs = np.mean(student_matrix, axis=0)\n",
    "subjects = [\"Mathematics\", \"English Language\", \"Chemistry\", \"Pyhsics\"]\n",
    "print(\"-- Student's Subjects Average Scores--\")\n",
    "for i, m in enumerate(student_subject_avgs):\n",
    "    print(f\" {subjects[i]} Average: {m}\")\n"
   ]
  },
  {
   "cell_type": "markdown",
   "id": "8b1ae747",
   "metadata": {},
   "source": [
    "Suppose Mathematics is 3 times more important than others. Apply scalar \n",
    "multiplication and recompute totals."
   ]
  },
  {
   "cell_type": "code",
   "execution_count": 12,
   "id": "48d2ec2b",
   "metadata": {},
   "outputs": [
    {
     "data": {
      "text/plain": [
       "array([[213, 100,  81,  87],\n",
       "       [213,  89,  86,  92],\n",
       "       [261,  85,  72,  91],\n",
       "       [237,  70,  81,  97],\n",
       "       [222,  91,  79,  95]])"
      ]
     },
     "execution_count": 12,
     "metadata": {},
     "output_type": "execute_result"
    }
   ],
   "source": [
    "subj_weight = [3,1,1,1]\n",
    "new_student_matrix = student_matrix * subj_weight\n",
    "new_student_matrix\n"
   ]
  },
  {
   "cell_type": "code",
   "execution_count": 6,
   "id": "b3c344bc",
   "metadata": {},
   "outputs": [
    {
     "name": "stdout",
     "output_type": "stream",
     "text": [
      "-- Weighted Student's Total Score--\n",
      " student_1 total score: 481\n",
      " student_2 total score: 480\n",
      " student_3 total score: 509\n",
      " student_4 total score: 485\n",
      " student_5 total score: 487\n"
     ]
    }
   ],
   "source": [
    "new_student_totals = np.sum(new_student_matrix, axis=1)\n",
    "print(\"-- Weighted Student's Total Score--\")\n",
    "for i, total in enumerate(new_student_totals):\n",
    "    print(f\" student_{i+1} total score: {total}\")"
   ]
  },
  {
   "cell_type": "markdown",
   "id": "0b80b325",
   "metadata": {},
   "source": [
    "Let's define new weights for grading (e.g., 40%, 20%, 30%, 10%). Compute final grades using \n",
    "matrix multiplication. "
   ]
  },
  {
   "cell_type": "code",
   "execution_count": 7,
   "id": "acb5b730",
   "metadata": {},
   "outputs": [],
   "source": [
    "new_grade_weight = np.array([0.40,0.20,0.30,0.10])\n",
    "student_matrix_2 = student_matrix * new_grade_weight"
   ]
  },
  {
   "cell_type": "code",
   "execution_count": 8,
   "id": "b500e8d8",
   "metadata": {},
   "outputs": [
    {
     "name": "stdout",
     "output_type": "stream",
     "text": [
      "Student Weighted Matrix \n",
      "\n",
      "[[28.4 20.  24.3  8.7]\n",
      " [28.4 17.8 25.8  9.2]\n",
      " [34.8 17.  21.6  9.1]\n",
      " [31.6 14.  24.3  9.7]\n",
      " [29.6 18.2 23.7  9.5]]\n"
     ]
    }
   ],
   "source": [
    "print(f\"Student Weighted Matrix \\n\")\n",
    "print(student_matrix_2)"
   ]
  },
  {
   "cell_type": "markdown",
   "id": "18f8af3c",
   "metadata": {},
   "source": [
    "Comparing Student 3 and Student 4 using vector subtraction.\n",
    "We check Who performed better in each subject"
   ]
  },
  {
   "cell_type": "code",
   "execution_count": 9,
   "id": "659a1c41",
   "metadata": {},
   "outputs": [],
   "source": [
    "student_3 = student_matrix[2]\n",
    "studemt_4 = student_matrix[3]"
   ]
  },
  {
   "cell_type": "code",
   "execution_count": 10,
   "id": "41ecbf49",
   "metadata": {},
   "outputs": [
    {
     "data": {
      "text/plain": [
       "array([ 8, 15, -9, -6], dtype=int32)"
      ]
     },
     "execution_count": 10,
     "metadata": {},
     "output_type": "execute_result"
    }
   ],
   "source": [
    "student_compare = student_3 - studemt_4\n",
    "student_compare"
   ]
  },
  {
   "cell_type": "code",
   "execution_count": 11,
   "id": "90609cb3",
   "metadata": {},
   "outputs": [
    {
     "name": "stdout",
     "output_type": "stream",
     "text": [
      "Student 3 has 8 marks above Student 4 in test Mathematics\n",
      "Student 3 has 15 marks above Student 4 in test English Language\n",
      "Student 4 has 9 marks above Student 3 in test Chemistry\n",
      "Student 4 has 6 marks above Student 3 in test Pyhsics\n"
     ]
    }
   ],
   "source": [
    "subjects = [\"Mathematics\", \"English Language\", \"Chemistry\", \"Pyhsics\"]\n",
    "for i, score in enumerate(student_compare):\n",
    "    if score > 0:\n",
    "        print(f\"Student 3 has {score} marks above Student 4 in test {subjects[i]}\")\n",
    "    elif score < 0:\n",
    "        print(f\"Student 4 has {abs(score)} marks above Student 3 in test {subjects[i]}\")\n",
    "    else:\n",
    "        print(f\"Student 3 and Student 4 scored the same in test {subjects[i]}\")\n"
   ]
  }
 ],
 "metadata": {
  "kernelspec": {
   "display_name": "Python 3",
   "language": "python",
   "name": "python3"
  },
  "language_info": {
   "codemirror_mode": {
    "name": "ipython",
    "version": 3
   },
   "file_extension": ".py",
   "mimetype": "text/x-python",
   "name": "python",
   "nbconvert_exporter": "python",
   "pygments_lexer": "ipython3",
   "version": "3.13.5"
  }
 },
 "nbformat": 4,
 "nbformat_minor": 5
}
